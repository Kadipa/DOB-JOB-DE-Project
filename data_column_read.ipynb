{
 "cells": [
  {
   "cell_type": "code",
   "execution_count": 1,
   "metadata": {},
   "outputs": [
    {
     "name": "stderr",
     "output_type": "stream",
     "text": [
      "/var/folders/1n/02s84_r56lbg_3y_wrv2l12w0000gn/T/ipykernel_2509/2171607577.py:4: DtypeWarning: Columns (5,6,13,38,59,60,68,74,75,76,77,79) have mixed types. Specify dtype option on import or set low_memory=False.\n",
      "  df = pd.read_csv(\"/Users/kdphan/Downloads/DOB_Job_Application_Filings_20250322.csv\")  # or use the full URL if not local\n"
     ]
    }
   ],
   "source": [
    "import pandas as pd\n",
    "\n",
    "# Load the CSV (local or directly from URL)\n",
    "df = pd.read_csv(\"/Users/kdphan/Downloads/DOB_Job_Application_Filings_20250322.csv\")  # or use the full URL if not local\n"
   ]
  },
  {
   "cell_type": "code",
   "execution_count": 3,
   "metadata": {},
   "outputs": [
    {
     "data": {
      "text/plain": [
       "0                                                        NaN\n",
       "1          REPLACEMENT GAS PIPING, RELOCATE GAS METERS AN...\n",
       "2          general construction to include partitions, jo...\n",
       "3          NEW 3rd FLOOR ADDTITON TO AN EXISTING THREE FA...\n",
       "4                                                        NaN\n",
       "                                 ...                        \n",
       "2710866    Replacement air conditioning installation.Tthe...\n",
       "2710867    INSTALL HOT WATER HEATER , FURNACE IN CELLAR I...\n",
       "2710868    INSTALLATION OF A STAIR TOWER, 32'X70'HIGH AT ...\n",
       "2710869    FILING FOR NEW OFF-SITE ACCESSORY PARKIN G LOT...\n",
       "2710870       INSTALLLATION OF PLUMBING AND DRAINAGE SYSTEM.\n",
       "Name: Job Description, Length: 2710871, dtype: object"
      ]
     },
     "execution_count": 3,
     "metadata": {},
     "output_type": "execute_result"
    }
   ],
   "source": [
    "df[\"Job Description\"]"
   ]
  },
  {
   "cell_type": "code",
   "execution_count": 2,
   "metadata": {},
   "outputs": [
    {
     "name": "stdout",
     "output_type": "stream",
     "text": [
      "CREATE EXTERNAL TABLE spectrum_schema.nyc_dob_jobs (\n",
      "  \"job_#\" VARCHAR,\n",
      "  \"doc_#\" VARCHAR,\n",
      "  \"borough\" VARCHAR,\n",
      "  \"house_#\" VARCHAR,\n",
      "  \"street_name\" VARCHAR,\n",
      "  \"block\" VARCHAR,\n",
      "  \"lot\" VARCHAR,\n",
      "  \"bin_#\" VARCHAR,\n",
      "  \"job_type\" VARCHAR,\n",
      "  \"job_status\" VARCHAR,\n",
      "  \"job_status_descrp\" VARCHAR,\n",
      "  \"latest_action_date\" VARCHAR,\n",
      "  \"building_type\" VARCHAR,\n",
      "  \"community_-_board\" VARCHAR,\n",
      "  \"cluster\" VARCHAR,\n",
      "  \"landmarked\" VARCHAR,\n",
      "  \"adult_estab\" VARCHAR,\n",
      "  \"loft_board\" VARCHAR,\n",
      "  \"city_owned\" VARCHAR,\n",
      "  \"little_e\" VARCHAR,\n",
      "  \"pc_filed\" VARCHAR,\n",
      "  \"efiling_filed\" VARCHAR,\n",
      "  \"plumbing\" VARCHAR,\n",
      "  \"mechanical\" VARCHAR,\n",
      "  \"boiler\" VARCHAR,\n",
      "  \"fuel_burning\" VARCHAR,\n",
      "  \"fuel_storage\" VARCHAR,\n",
      "  \"standpipe\" VARCHAR,\n",
      "  \"sprinkler\" VARCHAR,\n",
      "  \"fire_alarm\" VARCHAR,\n",
      "  \"equipment\" VARCHAR,\n",
      "  \"fire_suppression\" VARCHAR,\n",
      "  \"curb_cut\" VARCHAR,\n",
      "  \"other\" VARCHAR,\n",
      "  \"other_description\" VARCHAR,\n",
      "  \"applicant's_first_name\" VARCHAR,\n",
      "  \"applicant's_last_name\" VARCHAR,\n",
      "  \"applicant_professional_title\" VARCHAR,\n",
      "  \"applicant_license_#\" VARCHAR,\n",
      "  \"professional_cert\" VARCHAR,\n",
      "  \"pre-_filing_date\" VARCHAR,\n",
      "  \"paid\" VARCHAR,\n",
      "  \"fully_paid\" VARCHAR,\n",
      "  \"assigned\" VARCHAR,\n",
      "  \"approved\" VARCHAR,\n",
      "  \"fully_permitted\" VARCHAR,\n",
      "  \"initial_cost\" VARCHAR,\n",
      "  \"total_est._fee\" VARCHAR,\n",
      "  \"fee_status\" VARCHAR,\n",
      "  \"existing_zoning_sqft\" VARCHAR,\n",
      "  \"proposed_zoning_sqft\" VARCHAR,\n",
      "  \"horizontal_enlrgmt\" VARCHAR,\n",
      "  \"vertical_enlrgmt\" VARCHAR,\n",
      "  \"enlargement_sq_footage\" VARCHAR,\n",
      "  \"street_frontage\" VARCHAR,\n",
      "  \"existingno._of_stories\" VARCHAR,\n",
      "  \"proposed_no._of_stories\" VARCHAR,\n",
      "  \"existing_height\" VARCHAR,\n",
      "  \"proposed_height\" VARCHAR,\n",
      "  \"existing_dwelling_units\" VARCHAR,\n",
      "  \"proposed_dwelling_units\" VARCHAR,\n",
      "  \"existing_occupancy\" VARCHAR,\n",
      "  \"proposed_occupancy\" VARCHAR,\n",
      "  \"site_fill\" VARCHAR,\n",
      "  \"zoning_dist1\" VARCHAR,\n",
      "  \"zoning_dist2\" VARCHAR,\n",
      "  \"zoning_dist3\" VARCHAR,\n",
      "  \"special_district_1\" VARCHAR,\n",
      "  \"special_district_2\" VARCHAR,\n",
      "  \"owner_type\" VARCHAR,\n",
      "  \"non-profit\" VARCHAR,\n",
      "  \"owner's_first_name\" VARCHAR,\n",
      "  \"owner's_last_name\" VARCHAR,\n",
      "  \"owner's_business_name\" VARCHAR,\n",
      "  \"owner's_house_number\" VARCHAR,\n",
      "  \"owner'shouse_street_name\" VARCHAR,\n",
      "  \"city\" VARCHAR,\n",
      "  \"state\" VARCHAR,\n",
      "  \"zip\" VARCHAR,\n",
      "  \"owner'sphone_#\" VARCHAR,\n",
      "  \"job_description\" VARCHAR,\n",
      "  \"dobrundate\" VARCHAR,\n",
      "  \"job_s1_no\" VARCHAR,\n",
      "  \"total_construction_floor_area\" VARCHAR,\n",
      "  \"withdrawal_flag\" VARCHAR,\n",
      "  \"signoff_date\" VARCHAR,\n",
      "  \"special_action_status\" VARCHAR,\n",
      "  \"special_action_date\" VARCHAR,\n",
      "  \"building_class\" VARCHAR,\n",
      "  \"job_no_good_count\" VARCHAR,\n",
      "  \"gis_latitude\" VARCHAR,\n",
      "  \"gis_longitude\" VARCHAR,\n",
      "  \"gis_council_district\" VARCHAR,\n",
      "  \"gis_census_tract\" VARCHAR,\n",
      "  \"gis_nta_name\" VARCHAR,\n",
      "  \"gis_bin\" VARCHAR\n",
      ")\n",
      "STORED AS PARQUET\n",
      "LOCATION 's3://your-bucket/raw/dob_jobs/nyc_dob_job_data/load_id=20240330121054/';\n",
      "\n"
     ]
    }
   ],
   "source": [
    "# Convert all column names to VARCHAR type definitions\n",
    "columns_sql = \",\\n\".join([f\"  \\\"{col.strip().lower().replace(' ', '_')}\\\" VARCHAR\" for col in df.columns])\n",
    "\n",
    "# Wrap in CREATE TABLE\n",
    "create_sql = f\"\"\"CREATE EXTERNAL TABLE spectrum_schema.nyc_dob_jobs (\n",
    "{columns_sql}\n",
    ")\n",
    "STORED AS PARQUET\n",
    "LOCATION 's3://your-bucket/raw/dob_jobs/nyc_dob_job_data/load/';\n",
    "\"\"\"\n",
    "\n",
    "# Output the SQL\n",
    "print(create_sql)\n"
   ]
  }
 ],
 "metadata": {
  "kernelspec": {
   "display_name": "thesisEnv",
   "language": "python",
   "name": "python3"
  },
  "language_info": {
   "codemirror_mode": {
    "name": "ipython",
    "version": 3
   },
   "file_extension": ".py",
   "mimetype": "text/x-python",
   "name": "python",
   "nbconvert_exporter": "python",
   "pygments_lexer": "ipython3",
   "version": "3.12.2"
  },
  "orig_nbformat": 4
 },
 "nbformat": 4,
 "nbformat_minor": 2
}
